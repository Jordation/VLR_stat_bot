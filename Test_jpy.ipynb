{
 "cells": [
  {
   "cell_type": "markdown",
   "metadata": {},
   "source": [
    "# VLR STATS"
   ]
  },
  {
   "cell_type": "markdown",
   "metadata": {},
   "source": [
    "## Grab Stats"
   ]
  },
  {
   "cell_type": "code",
   "execution_count": null,
   "metadata": {},
   "outputs": [],
   "source": [
    "from bs4 import BeautifulSoup\n",
    "from bs4.diagnose import diagnose\n",
    "import re\n",
    "import requests\n",
    "import Player_stats_scraper as plyr_st\n",
    "import Event_Agents_Scraper as agnt_pr\n",
    "import pandas as pd"
   ]
  },
  {
   "cell_type": "markdown",
   "metadata": {},
   "source": [
    "### get stats by player"
   ]
  },
  {
   "cell_type": "code",
   "execution_count": null,
   "metadata": {},
   "outputs": [],
   "source": [
    "url_BY_PLAYER=\"https://www.vlr.gg/event/stats/1014/valorant-champions-tour-stage-2-masters-copenhagen\"\n",
    "data_stats_BY_PLAYER = plyr_st.call_all_for_overall(url_BY_PLAYER,0,0)"
   ]
  },
  {
   "cell_type": "markdown",
   "metadata": {},
   "source": [
    "### get stats by agents"
   ]
  },
  {
   "cell_type": "code",
   "execution_count": null,
   "metadata": {},
   "outputs": [],
   "source": [
    "role_counts={'Controller': 4, 'Duelist': 6, 'Initiator': 5, 'Sentinel': 4}\n",
    "filter_BY_AGENT=['astra','brimstone','omen','viper','jett','raze','reyna','neon','phoenix','yoru','breach','fade','kayo','skye','sova','chamber','cypher','killjoy','sage']\n",
    "url_BY_AGENT = \"https://www.vlr.gg/event/stats/1014/valorant-champions-tour-stage-2-masters-copenhagen?exclude=&min_rounds={}&agent={}\"\n",
    "data_stats_BY_AGENT=[]\n",
    "for i in range(len(filter_BY_AGENT)):\n",
    "    data_stats_BY_AGENT.append(plyr_st.call_all(url_BY_AGENT, filter_BY_AGENT, i))"
   ]
  },
  {
   "cell_type": "markdown",
   "metadata": {},
   "source": [
    "### get stats of pick rates"
   ]
  },
  {
   "cell_type": "code",
   "execution_count": null,
   "metadata": {},
   "outputs": [],
   "source": [
    "url_PICK_RATES = \"https://www.vlr.gg/event/agents/1014/valorant-champions-tour-stage-2-masters-copenhagen\"\n",
    "data_PICK_RATES = agnt_pr.call_all(url_PICK_RATES)  "
   ]
  },
  {
   "cell_type": "markdown",
   "metadata": {},
   "source": [
    "## Panda Testing"
   ]
  },
  {
   "cell_type": "code",
   "execution_count": null,
   "metadata": {},
   "outputs": [],
   "source": [
    "#df_BY_AGENT = pd.dataFrame(data_stats_BY_AGENT)\n",
    "#df_BY_PLAYER = pd.dataFrame(data_stats_BY_PLAYER)\n",
    "#df_PICK_RATES = pd.DataFrame(data_PICK_RATES) #needs to be fixed in old code, output a clean list"
   ]
  },
  {
   "cell_type": "code",
   "execution_count": null,
   "metadata": {},
   "outputs": [],
   "source": [
    "print(stat_byagent.shape)\n",
    "print(stat_byplayer.shape)\n",
    "#print(df_PICK_RATES)\n"
   ]
  },
  {
   "cell_type": "code",
   "execution_count": null,
   "metadata": {},
   "outputs": [],
   "source": []
  }
 ],
 "metadata": {
  "kernelspec": {
   "display_name": "Python 3.10.5 64-bit",
   "language": "python",
   "name": "python3"
  },
  "language_info": {
   "codemirror_mode": {
    "name": "ipython",
    "version": 3
   },
   "file_extension": ".py",
   "mimetype": "text/x-python",
   "name": "python",
   "nbconvert_exporter": "python",
   "pygments_lexer": "ipython3",
   "version": "3.10.5"
  },
  "orig_nbformat": 4,
  "vscode": {
   "interpreter": {
    "hash": "01cefc85e0c90c3795a191bf95b93d898e338d4e8f8d4e7d22ab74a006ee8b2e"
   }
  }
 },
 "nbformat": 4,
 "nbformat_minor": 2
}
