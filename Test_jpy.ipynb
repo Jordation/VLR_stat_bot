{
 "cells": [
  {
   "cell_type": "markdown",
   "metadata": {},
   "source": [
    "# My first notebook"
   ]
  },
  {
   "cell_type": "code",
   "execution_count": 1,
   "metadata": {},
   "outputs": [
    {
     "name": "stdout",
     "output_type": "stream",
     "text": [
      "howareya\n",
      "Dese\n"
     ]
    }
   ],
   "source": [
    "import Player_stats_scraper\n",
    "import Event_Agents_Scraper\n",
    "from bs4 import BeautifulSoup\n",
    "from bs4.diagnose import diagnose\n",
    "import re\n",
    "import requests"
   ]
  },
  {
   "cell_type": "code",
   "execution_count": 2,
   "metadata": {},
   "outputs": [],
   "source": [
    "filterlist=['astra', 'breach', 'brimstone', 'chamber', 'cypher', 'fade', 'jett', 'kayo', 'killjoy', 'neon', 'omen', 'phoenix', 'raze', 'reyna', 'sage', 'skye', 'sova', 'viper', 'yoru']\n",
    "url_filtered = \"https://www.vlr.gg/event/stats/1014/valorant-champions-tour-stage-2-masters-copenhagen?exclude=&min_rounds={}&agent={}\"\n",
    "Stats_List = []\n",
    "for i in range(len(filterlist)):\n",
    "    Stats_List.extend(Player_stats_scraper.call_all(url_filtered, filterlist, i))"
   ]
  },
  {
   "cell_type": "code",
   "execution_count": 2,
   "metadata": {},
   "outputs": [],
   "source": [
    "url_picks = \"https://www.vlr.gg/event/agents/1014/valorant-champions-tour-stage-2-masters-copenhagen\"\n",
    "picks_data = Event_Agents_Scraper.call_all(url_picks)"
   ]
  },
  {
   "cell_type": "code",
   "execution_count": 3,
   "metadata": {},
   "outputs": [],
   "source": [
    "astra_stats=Stats_List[0]\n",
    "breach_stats=Stats_List[1]\n",
    "brimstone_stats=Stats_List[2]\n",
    "chamber_stats=Stats_List[3]\n",
    "cypher_stats=Stats_List[4]\n",
    "fade_stats=Stats_List[5]\n",
    "jett_stats=Stats_List[6]\n",
    "kayo_stats=Stats_List[7]\n",
    "killjoy_stats=Stats_List[8]\n",
    "neon_stats=Stats_List[9]\n",
    "omen_stats=Stats_List[10]\n",
    "phoenix_stats=Stats_List[11]\n",
    "raze_stats=Stats_List[12]\n",
    "reyna_stats=Stats_List[13]\n",
    "sage_stats=Stats_List[14]\n",
    "skye_stats=Stats_List[15]\n",
    "sova_stats=Stats_List[16]\n",
    "viper_stats=Stats_List[17]\n",
    "yoru_stats=Stats_List[18]"
   ]
  }
 ],
 "metadata": {
  "kernelspec": {
   "display_name": "Python 3.10.5 64-bit",
   "language": "python",
   "name": "python3"
  },
  "language_info": {
   "codemirror_mode": {
    "name": "ipython",
    "version": 3
   },
   "file_extension": ".py",
   "mimetype": "text/x-python",
   "name": "python",
   "nbconvert_exporter": "python",
   "pygments_lexer": "ipython3",
   "version": "3.10.5"
  },
  "orig_nbformat": 4,
  "vscode": {
   "interpreter": {
    "hash": "01cefc85e0c90c3795a191bf95b93d898e338d4e8f8d4e7d22ab74a006ee8b2e"
   }
  }
 },
 "nbformat": 4,
 "nbformat_minor": 2
}
