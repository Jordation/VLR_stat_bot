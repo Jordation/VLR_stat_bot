{
 "cells": [
  {
   "cell_type": "markdown",
   "metadata": {},
   "source": [
    "# My first notebook"
   ]
  },
  {
   "cell_type": "code",
   "execution_count": 1,
   "metadata": {},
   "outputs": [
    {
     "name": "stdout",
     "output_type": "stream",
     "text": [
      "howareya\n",
      "Dese\n"
     ]
    }
   ],
   "source": [
    "from bs4 import BeautifulSoup\n",
    "from bs4.diagnose import diagnose\n",
    "import re\n",
    "import requests\n",
    "import Player_stats_scraper as plyr_st\n",
    "import Event_Agents_Scraper as agnt_pr\n",
    "import pandas as pd"
   ]
  },
  {
   "cell_type": "code",
   "execution_count": 2,
   "metadata": {},
   "outputs": [],
   "source": [
    "filterlist=['astra','brimstone','omen','viper','jett','raze','reyna','neon','phoenix','yoru','breach','fade','kayo','skye','sova','chamber','cypher','killjoy','sage']\n",
    "url_filtered = \"https://www.vlr.gg/event/stats/1014/valorant-champions-tour-stage-2-masters-copenhagen?exclude=&min_rounds={}&agent={}\"\n",
    "Stats_List = []\n",
    "for i in range(len(filterlist)):\n",
    "    Stats_List.append(plyr_st.call_all(url_filtered, filterlist, i))\n",
    "#Stats_List = plyr_st.call_all(url_filtered,filterlist,3)\n",
    "role_groups={'Controller': 4, 'Duelist': 6, 'Initiator': 5, 'Sentinel': 4}"
   ]
  },
  {
   "cell_type": "code",
   "execution_count": 3,
   "metadata": {},
   "outputs": [],
   "source": [
    "url_picks = \"https://www.vlr.gg/event/agents/1014/valorant-champions-tour-stage-2-masters-copenhagen\"\n",
    "picks_data = agnt_pr.call_all(url_picks)\n",
    "\n",
    "url_for_overall = \"https://www.vlr.gg/event/stats/1014/valorant-champions-tour-stage-2-masters-copenhagen\"\n",
    "allstats = plyr_st.call_all_for_overall(url_for_overall,0,0)\n",
    "\n"
   ]
  },
  {
   "cell_type": "code",
   "execution_count": null,
   "metadata": {},
   "outputs": [],
   "source": [
    "test = pd.DataFrame(Stats_List)\n",
    "test"
   ]
  },
  {
   "cell_type": "markdown",
   "metadata": {},
   "source": [
    "# Panda Testing"
   ]
  },
  {
   "cell_type": "code",
   "execution_count": 3,
   "metadata": {},
   "outputs": [],
   "source": [
    "#playerandaget[[p1,p1,p2,p2],[p1a1,p1a2,p2a1,p2a2]\n",
    "copylist=[]\n",
    "copylist.extend(Stats_List)\n",
    "role_ctrl_arr_m = []\n",
    "role_duel_arr_m = []\n",
    "role_init_arr_m = []\n",
    "role_sent_arr_m = []\n",
    "for i in range(role_groups['Controller']):\n",
    "    role_ctrl_arr_m.extend(copylist[i])\n",
    "    copylist.pop(0)\n",
    "for i in range(role_groups['Duelist']):\n",
    "    role_duel_arr_m.extend(copylist[i])\n",
    "    copylist.pop(0)\n",
    "for i in range(role_groups['Initiator']):\n",
    "    role_init_arr_m.extend(copylist[i])\n",
    "    copylist.pop(0)\n",
    "for i in range(role_groups['Sentinel']):\n",
    "    role_sent_arr_m.extend(copylist[i])"
   ]
  },
  {
   "cell_type": "code",
   "execution_count": 9,
   "metadata": {},
   "outputs": [
    {
     "ename": "TypeError",
     "evalue": "Input must be a DataFrame",
     "output_type": "error",
     "traceback": [
      "\u001b[1;31m---------------------------------------------------------------------------\u001b[0m",
      "\u001b[1;31mTypeError\u001b[0m                                 Traceback (most recent call last)",
      "\u001b[1;32mc:\\DEV\\Stats\\VLR_stat_bot\\Test_jpy.ipynb Cell 8\u001b[0m in \u001b[0;36m<cell line: 2>\u001b[1;34m()\u001b[0m\n\u001b[0;32m      <a href='vscode-notebook-cell:/c%3A/DEV/Stats/VLR_stat_bot/Test_jpy.ipynb#ch0000009?line=0'>1</a>\u001b[0m new \u001b[39m=\u001b[39m pd\u001b[39m.\u001b[39mDataFrame(role_ctrl_arr_m)\n\u001b[1;32m----> <a href='vscode-notebook-cell:/c%3A/DEV/Stats/VLR_stat_bot/Test_jpy.ipynb#ch0000009?line=1'>2</a>\u001b[0m mi \u001b[39m=\u001b[39m pd\u001b[39m.\u001b[39;49mMultiIndex\u001b[39m.\u001b[39;49mfrom_frame(new[\u001b[39m'\u001b[39;49m\u001b[39mAgents Played\u001b[39;49m\u001b[39m'\u001b[39;49m])\n\u001b[0;32m      <a href='vscode-notebook-cell:/c%3A/DEV/Stats/VLR_stat_bot/Test_jpy.ipynb#ch0000009?line=2'>3</a>\u001b[0m new2 \u001b[39m=\u001b[39m pd\u001b[39m.\u001b[39mDataFrame(role_ctrl_arr_m, index\u001b[39m=\u001b[39mmi)\n\u001b[0;32m      <a href='vscode-notebook-cell:/c%3A/DEV/Stats/VLR_stat_bot/Test_jpy.ipynb#ch0000009?line=3'>4</a>\u001b[0m new2\n",
      "File \u001b[1;32mc:\\Users\\Jordan\\AppData\\Local\\Programs\\Python\\Python310\\lib\\site-packages\\pandas\\core\\indexes\\multi.py:687\u001b[0m, in \u001b[0;36mMultiIndex.from_frame\u001b[1;34m(cls, df, sortorder, names)\u001b[0m\n\u001b[0;32m    631\u001b[0m \u001b[39m\"\"\"\u001b[39;00m\n\u001b[0;32m    632\u001b[0m \u001b[39mMake a MultiIndex from a DataFrame.\u001b[39;00m\n\u001b[0;32m    633\u001b[0m \n\u001b[1;32m   (...)\u001b[0m\n\u001b[0;32m    684\u001b[0m \u001b[39m           names=['state', 'observation'])\u001b[39;00m\n\u001b[0;32m    685\u001b[0m \u001b[39m\"\"\"\u001b[39;00m\n\u001b[0;32m    686\u001b[0m \u001b[39mif\u001b[39;00m \u001b[39mnot\u001b[39;00m \u001b[39misinstance\u001b[39m(df, ABCDataFrame):\n\u001b[1;32m--> 687\u001b[0m     \u001b[39mraise\u001b[39;00m \u001b[39mTypeError\u001b[39;00m(\u001b[39m\"\u001b[39m\u001b[39mInput must be a DataFrame\u001b[39m\u001b[39m\"\u001b[39m)\n\u001b[0;32m    689\u001b[0m column_names, columns \u001b[39m=\u001b[39m \u001b[39mzip\u001b[39m(\u001b[39m*\u001b[39mdf\u001b[39m.\u001b[39mitems())\n\u001b[0;32m    690\u001b[0m names \u001b[39m=\u001b[39m column_names \u001b[39mif\u001b[39;00m names \u001b[39mis\u001b[39;00m \u001b[39mNone\u001b[39;00m \u001b[39melse\u001b[39;00m names\n",
      "\u001b[1;31mTypeError\u001b[0m: Input must be a DataFrame"
     ]
    }
   ],
   "source": [
    "new = pd.DataFrame(role_ctrl_arr_m)\n",
    "mi = pd.MultiIndex.from_frame(new['Agents Played'])\n",
    "new2 = pd.DataFrame(role_ctrl_arr_m, index=mi)\n",
    "new2"
   ]
  }
 ],
 "metadata": {
  "kernelspec": {
   "display_name": "Python 3.10.5 64-bit",
   "language": "python",
   "name": "python3"
  },
  "language_info": {
   "codemirror_mode": {
    "name": "ipython",
    "version": 3
   },
   "file_extension": ".py",
   "mimetype": "text/x-python",
   "name": "python",
   "nbconvert_exporter": "python",
   "pygments_lexer": "ipython3",
   "version": "3.10.5"
  },
  "orig_nbformat": 4,
  "vscode": {
   "interpreter": {
    "hash": "01cefc85e0c90c3795a191bf95b93d898e338d4e8f8d4e7d22ab74a006ee8b2e"
   }
  }
 },
 "nbformat": 4,
 "nbformat_minor": 2
}
